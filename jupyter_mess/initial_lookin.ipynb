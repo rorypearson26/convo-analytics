{
 "cells": [
  {
   "cell_type": "code",
   "execution_count": 13,
   "id": "74bddab2",
   "metadata": {},
   "outputs": [
    {
     "ename": "IndentationError",
     "evalue": "unexpected indent (2374762506.py, line 12)",
     "output_type": "error",
     "traceback": [
      "\u001b[0;36m  Input \u001b[0;32mIn [13]\u001b[0;36m\u001b[0m\n\u001b[0;31m    def get_raw_series(self):\u001b[0m\n\u001b[0m    ^\u001b[0m\n\u001b[0;31mIndentationError\u001b[0m\u001b[0;31m:\u001b[0m unexpected indent\n"
     ]
    }
   ],
   "source": [
    "\"\"\"Module for reading in raw text and performing basic processing.\"\"\"\n",
    "from pathlib import Path\n",
    "\n",
    "import pandas as pd\n",
    "\n",
    "cwd = !pwd\n",
    "cwd = Path(str(cwd))\n",
    "raw_text = \"murphys_clan.txt\"\n",
    "raw_file_path = cwd / \"raw_export\" / self.file_name\n",
    "\n",
    "\n",
    "    def get_raw_series(self):\n",
    "        raw_lines = self.get_convo_as_list()\n",
    "        raw_series = pd.Series(raw_lines)\n",
    "        return raw_series\n",
    "\n",
    "    def process_dataframe(self):\n",
    "        df = pd.DataFrame()\n",
    "        df[[\"date\", \"other\"]] = self.raw_series.str.split(\"-\", n=1, expand=True)\n",
    "        df[[\"person\", \"message\"]] = df[\"other\"].str.split(\":\", n=1, expand=True)\n",
    "        df.drop(\"other\", inplace=True, axis=1)\n",
    "        return df\n",
    "\n",
    "#     @staticmethod\n",
    "#     def split_columns(raw):\n",
    "\n",
    "\n",
    "    def get_convo_as_list(self):\n",
    "        with open(self.file_path, \"r\") as f:\n",
    "            lines = f.read().splitlines()\n",
    "        return lines\n",
    "\n",
    "\n",
    "if __name__ == \"__main__\":\n",
    "    raw = ProcessedData(\"murphys_clan.txt\")\n",
    "    print(\"h\")\n"
   ]
  },
  {
   "cell_type": "code",
   "execution_count": 11,
   "id": "fea2f1f0",
   "metadata": {},
   "outputs": [
    {
     "data": {
      "text/plain": [
       "PosixPath(\"['/home/roryp/Documents/coding/convo-analytics/jupyter_mess']\")"
      ]
     },
     "execution_count": 11,
     "metadata": {},
     "output_type": "execute_result"
    }
   ],
   "source": [
    "p = !pwd\n",
    "Path(str(p))"
   ]
  },
  {
   "cell_type": "code",
   "execution_count": 10,
   "id": "389ac79e",
   "metadata": {},
   "outputs": [
    {
     "data": {
      "text/plain": [
       "IPython.utils.text.SList"
      ]
     },
     "execution_count": 10,
     "metadata": {},
     "output_type": "execute_result"
    }
   ],
   "source": [
    "type(p)\n"
   ]
  }
 ],
 "metadata": {
  "kernelspec": {
   "display_name": "convo-analytics",
   "language": "python",
   "name": "convo-analytics"
  },
  "language_info": {
   "codemirror_mode": {
    "name": "ipython",
    "version": 3
   },
   "file_extension": ".py",
   "mimetype": "text/x-python",
   "name": "python",
   "nbconvert_exporter": "python",
   "pygments_lexer": "ipython3",
   "version": "3.8.10"
  }
 },
 "nbformat": 4,
 "nbformat_minor": 5
}
