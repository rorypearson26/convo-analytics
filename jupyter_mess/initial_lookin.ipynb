{
 "cells": [
  {
   "cell_type": "code",
   "execution_count": 93,
   "id": "c0e62657",
   "metadata": {},
   "outputs": [],
   "source": [
    "from pathlib import Path\n",
    "\n",
    "import pandas as pd\n",
    "\n",
    "cwd = !pwd\n",
    "cwd = Path(str(cwd[0]))\n",
    "file_name = \"murphys_clan.txt\"\n",
    "raw_file_path = cwd.parent / \"raw_export\" / file_name\n",
    "\n",
    "def get_convo_as_list(raw_file_path):\n",
    "    with open(raw_file_path, \"r\") as f:\n",
    "        lines = f.read().splitlines()\n",
    "    return lines\n",
    "\n",
    "def get_raw_series(raw_text):\n",
    "    raw_series = pd.Series(raw_text)\n",
    "    return raw_series\n",
    "\n",
    "def process_dataframe(raw_series):\n",
    "    df = pd.DataFrame()\n",
    "    df[[\"date\", \"other\"]] = raw_series.str.split(\"-\", n=1, expand=True)\n",
    "    df[[\"person\", \"message\"]] = df[\"other\"].str.split(\":\", n=1, expand=True)\n",
    "    df.drop(\"other\", inplace=True, axis=1)\n",
    "    return df"
   ]
  },
  {
   "cell_type": "markdown",
   "id": "bda4890f",
   "metadata": {},
   "source": [
    "## Look see of initial read in method"
   ]
  },
  {
   "cell_type": "code",
   "execution_count": 94,
   "id": "7561a5ab",
   "metadata": {},
   "outputs": [],
   "source": [
    "raw_text = get_convo_as_list(raw_file_path)\n",
    "raw_series = get_raw_series(raw_text)\n",
    "df = process_dataframe(raw_series.copy())"
   ]
  },
  {
   "cell_type": "code",
   "execution_count": null,
   "id": "a804b310",
   "metadata": {},
   "outputs": [],
   "source": []
  },
  {
   "cell_type": "code",
   "execution_count": 95,
   "id": "7ed7be2b",
   "metadata": {},
   "outputs": [
    {
     "data": {
      "text/plain": [
       "0        534.0\n",
       "1        535.0\n",
       "2        536.0\n",
       "3        537.0\n",
       "4        538.0\n",
       "        ...   \n",
       "765    23565.0\n",
       "766    23616.0\n",
       "767    23617.0\n",
       "768    23637.0\n",
       "769        NaN\n",
       "Name: shift, Length: 770, dtype: float64"
      ]
     },
     "execution_count": 95,
     "metadata": {},
     "output_type": "execute_result"
    }
   ],
   "source": [
    "is_nan = df.isnull()\n",
    "is_nan = pd.DataFrame(df.index[is_nan['person']], columns=[\"null_rows\"])\n",
    "is_nan['shift'] = is_nan['null_rows'].shift(-1)\n",
    "is_nan['shift'].astype('int64', errors='ignore')"
   ]
  },
  {
   "cell_type": "code",
   "execution_count": 97,
   "id": "61bae5e1",
   "metadata": {},
   "outputs": [
    {
     "data": {
      "text/html": [
       "<div>\n",
       "<style scoped>\n",
       "    .dataframe tbody tr th:only-of-type {\n",
       "        vertical-align: middle;\n",
       "    }\n",
       "\n",
       "    .dataframe tbody tr th {\n",
       "        vertical-align: top;\n",
       "    }\n",
       "\n",
       "    .dataframe thead th {\n",
       "        text-align: right;\n",
       "    }\n",
       "</style>\n",
       "<table border=\"1\" class=\"dataframe\">\n",
       "  <thead>\n",
       "    <tr style=\"text-align: right;\">\n",
       "      <th></th>\n",
       "      <th>date</th>\n",
       "      <th>person</th>\n",
       "      <th>message</th>\n",
       "    </tr>\n",
       "  </thead>\n",
       "  <tbody>\n",
       "    <tr>\n",
       "      <th>23533</th>\n",
       "      <td>Thanks Tim x</td>\n",
       "      <td>None</td>\n",
       "      <td>None</td>\n",
       "    </tr>\n",
       "    <tr>\n",
       "      <th>23534</th>\n",
       "      <td></td>\n",
       "      <td>None</td>\n",
       "      <td>None</td>\n",
       "    </tr>\n",
       "    <tr>\n",
       "      <th>23535</th>\n",
       "      <td>https://forms.office.com/Pages/ResponsePage.as...</td>\n",
       "      <td>None</td>\n",
       "      <td>None</td>\n",
       "    </tr>\n",
       "    <tr>\n",
       "      <th>23536</th>\n",
       "      <td>04/10/2021, 13:46</td>\n",
       "      <td>Mum</td>\n",
       "      <td>Not sure whether either of you would like to ...</td>\n",
       "    </tr>\n",
       "  </tbody>\n",
       "</table>\n",
       "</div>"
      ],
      "text/plain": [
       "                                                    date person  \\\n",
       "23533                                       Thanks Tim x   None   \n",
       "23534                                                      None   \n",
       "23535  https://forms.office.com/Pages/ResponsePage.as...   None   \n",
       "23536                                 04/10/2021, 13:46     Mum   \n",
       "\n",
       "                                                 message  \n",
       "23533                                               None  \n",
       "23534                                               None  \n",
       "23535                                               None  \n",
       "23536   Not sure whether either of you would like to ...  "
      ]
     },
     "execution_count": 97,
     "metadata": {},
     "output_type": "execute_result"
    }
   ],
   "source": [
    "is_nan['is_sequence'] = is_nan['shift'] == is_nan['null_rows'] +1\n",
    "s = is_nan['is_sequence']\n",
    "is_nan['sequence'] = s[s].groupby((~s).cumsum()).ngroup()\n",
    "df.iloc[23533:23537]"
   ]
  }
 ],
 "metadata": {
  "kernelspec": {
   "display_name": "convo-analytics",
   "language": "python",
   "name": "convo-analytics"
  },
  "language_info": {
   "codemirror_mode": {
    "name": "ipython",
    "version": 3
   },
   "file_extension": ".py",
   "mimetype": "text/x-python",
   "name": "python",
   "nbconvert_exporter": "python",
   "pygments_lexer": "ipython3",
   "version": "3.8.10"
  }
 },
 "nbformat": 4,
 "nbformat_minor": 5
}
